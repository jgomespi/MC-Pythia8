{
 "cells": [
  {
   "cell_type": "code",
   "execution_count": 1,
   "metadata": {},
   "outputs": [
    {
     "name": "stdout",
     "output_type": "stream",
     "text": [
      "Welcome to JupyROOT 6.22/03\n"
     ]
    }
   ],
   "source": [
    "import math\n",
    "import numpy as np\n",
    "from ROOT import TCanvas, TH1D, TF1\n",
    "from numpy import random"
   ]
  },
  {
   "cell_type": "markdown",
   "metadata": {},
   "source": [
    "Este notebook contém as respostas para os 3 primeiros exercícios da lista de Método de Monte Carlo do Curso de Análise de Dados. UERJ 2020-2."
   ]
  },
  {
   "cell_type": "markdown",
   "metadata": {},
   "source": [
    "1 - Escreva um código para estimar a área do disco unitário usando o método de Monte Carlo da rejeição. Sabemos que o raio do disco unitário é 1, então o círculo unitário está inscrito dentro de uma quadrado de tamanho 2. Dica: Gerar amostras dentro deste quadrado e contar o número de pontos que caem dentro do disco. Para testar se o ponto está dentro (acerto) ou fora (erro) do disco, nós simplesmente precisamos medir a distância da amostra até a origem (o centro do disco) e checar se a distância é menor do que o raio de disco (que no caso do disco unitário é 1). "
   ]
  },
  {
   "cell_type": "code",
   "execution_count": 2,
   "metadata": {},
   "outputs": [
    {
     "name": "stdout",
     "output_type": "stream",
     "text": [
      "pi =  3.14296\n"
     ]
    }
   ],
   "source": [
    "N = 100000 # Número de contagens.\n",
    "j=0\n",
    "for i in range (0,N):\n",
    "    # Gerar um par de números aleatórios entre -1 e 1\n",
    "    x = random.uniform(-1,1)\n",
    "    y = random.uniform(-1,1)\n",
    "    # Calcular a distância ao centro (0,0)\n",
    "    r = (x**2+y**2)**(0.5)\n",
    "    # Verificar se o ponto está dentro do círculo unitário centrado na origem\n",
    "    if (r<=1):\n",
    "        j = j+1\n",
    "\n",
    "print(\"pi = \", 4*j/N)"
   ]
  },
  {
   "cell_type": "markdown",
   "metadata": {},
   "source": [
    "No final, multiplicamos por 4 pois a razão entre a área no círculo ($=\\pi$) e a área do quadrado ($=4$) é $\\frac{\\pi}{4}$. Este método permite encontrarmos um valor aproximado para a constante $\\pi$."
   ]
  },
  {
   "cell_type": "markdown",
   "metadata": {},
   "source": [
    "2 - Calcule a integral a seguir utilizando ambos métodos (rejeição e direto).\n",
    "\n",
    "$$\\int_{0}^{3}dx \\ (1-x^{2})^{2}$$"
   ]
  },
  {
   "cell_type": "markdown",
   "metadata": {},
   "source": [
    "Utilizando o método da rejeição:"
   ]
  },
  {
   "cell_type": "code",
   "execution_count": 3,
   "metadata": {},
   "outputs": [],
   "source": [
    "# Função que calcula o valor da função dada acima, num ponto x qualquer\n",
    "def func (x):\n",
    "    return (1-x**2)**(2)"
   ]
  },
  {
   "cell_type": "markdown",
   "metadata": {},
   "source": [
    "O valor máximo da função acima no intervalo (0,3) ocorre quando $x=3$, ou seja, $f(3) = 64$. Portanto, vamos considerar um retângulo de base 3, ou seja (0,3) em $x$ e de altura 64, ou seja (0,64) em $y$. O método na rejeição nos diz que a razão entre as áreas destas figuras geométricas é igual à área entre os pontos aleatórios que são marcados dentro e fora destas curvas."
   ]
  },
  {
   "cell_type": "code",
   "execution_count": 4,
   "metadata": {},
   "outputs": [
    {
     "name": "stdout",
     "output_type": "stream",
     "text": [
      " A área da função na região dada é de  33.21792\n"
     ]
    }
   ],
   "source": [
    "N = 100000 # número de contagens\n",
    "fmax=64 # Valor máximo da função no intervalo (a,b)\n",
    "j= 0 \n",
    "for i in range(0,N):\n",
    "    # Gerar um par de números aleatórios dentro do retângulo (0,3)x(0,64)\n",
    "    x = random.uniform(0,3)\n",
    "    y = random.uniform(0,fmax)\n",
    "    # Calcular o valor da função neste valor de x gerando anteriormente\n",
    "    f = func(x)\n",
    "    # Verificar se o ponto gerado está abaixo da curva f(x)\n",
    "    if (y<=f):\n",
    "        j = j+1\n",
    "print(\" A área da função na região dada é de \", 64*3*j/N)"
   ]
  },
  {
   "cell_type": "markdown",
   "metadata": {},
   "source": [
    "Utilizando o método direito:"
   ]
  },
  {
   "cell_type": "markdown",
   "metadata": {},
   "source": [
    "O método direito calcula a área sob uma curva $f(x)$ a partir de distribuições uniformes de números aleatórios em um intervalo (0,1). Para tal, consideramos as transformações $x'=\\frac{x-a}{b-a}$ e calculamosa integral diretamente a partir de: $$I = \\frac{b-a}{N}\\sum_{i=1}^{N}f[x_{i}(b-a)+a]$$ sendo $x_{i}=x_{1},x_{2},x_{3},\\dots,x_{N}$ uma sequência de $N$ números aleatórios entre 0 e 1."
   ]
  },
  {
   "cell_type": "code",
   "execution_count": 5,
   "metadata": {},
   "outputs": [
    {
     "name": "stdout",
     "output_type": "stream",
     "text": [
      "I =  33.492099664276026\n"
     ]
    }
   ],
   "source": [
    "N = 100000\n",
    "a = 0\n",
    "b = 3\n",
    "I = 0\n",
    "for i in range(0,N):\n",
    "    x = random.uniform(0,1)\n",
    "    I = I + func(x*(b-a)+a)\n",
    "I = I*(b-a)/N\n",
    "print (\"I = \", I)"
   ]
  },
  {
   "cell_type": "markdown",
   "metadata": {},
   "source": [
    "3 - Escreva um código para calcular a seção de choque diferencial para o espalhamento de Rutherford."
   ]
  },
  {
   "cell_type": "markdown",
   "metadata": {},
   "source": [
    "Abaixo declaramos as constantes utilizadas no problema."
   ]
  },
  {
   "cell_type": "code",
   "execution_count": 6,
   "metadata": {},
   "outputs": [],
   "source": [
    "#Constantes\n",
    "m = 4*10e9 # GeV, massa da partícula alpha\n",
    "e = 1.6e-19 # carga do elétron\n",
    "epsilon = 8.85*10e-12 # permeabilidade elétrica"
   ]
  },
  {
   "cell_type": "markdown",
   "metadata": {},
   "source": [
    "Abaixo, declaramos o histograma e o canvas"
   ]
  },
  {
   "cell_type": "code",
   "execution_count": 7,
   "metadata": {},
   "outputs": [],
   "source": [
    "c1 = TCanvas( 'c1', 'canvas', 200, 10, 700, 500 )\n",
    "h1 = TH1D( 'h1', 'Secao de choque de Rutherford', 100, -1.6, 1.6 )\n",
    "h1.GetXaxis().SetTitle(\"#theta\")\n",
    "h1.GetYaxis().SetTitle(\"secao de choque diferencial\")"
   ]
  },
  {
   "cell_type": "markdown",
   "metadata": {},
   "source": [
    "Utilizando o método da rejeição, calculamos a seção de choque de Rutherford. Diferentemente da seção de choque do espalhamento Compton, neste caso temos uma divergência em $\\theta=0$. A diferença será no valor máximo de seção de choque considerado. Vamos considerar, de forma arbitrária, que a seção de choque máxima ocorre para $\\theta_{\\text{máx}}=0.1$. O valor pode ser tão próximo de 0 quanto se queira, mas este foi o que obtivemos o melhor resultado."
   ]
  },
  {
   "cell_type": "code",
   "execution_count": 8,
   "metadata": {},
   "outputs": [
    {
     "data": {
      "image/png": "[encoded data removed]",
      "text/plain": [
       "<IPython.core.display.Image object>"
      ]
     },
     "metadata": {},
     "output_type": "display_data"
    }
   ],
   "source": [
    "N = 100000 # número de eventos\n",
    "v = 10e7 # velocidade inicial da partícula alpha (~10%c)\n",
    "\n",
    "for i in range(N):\n",
    "    \n",
    "    while(True):        \n",
    "        # Gerando um valor aleatório para theta, entre -pi/2 e pi/2\n",
    "        theta = random.uniform(-math.pi/2,math.pi/2)\n",
    "        # O valor máximo para a seção de choque será escolhido, de maneira arbitrária, \n",
    "        # no ponto theta=0.1 rad, devido à divergência da seção de choque em theta=0. \n",
    "        theta_max = 0.1\n",
    "        max_ruther = ((e/(8*math.pi*epsilon*m*v**2))**2)*(1/math.sin(theta_max/2))**4\n",
    "        # Gerando valores aleatórios para a seção de choque, entre 0 e seu valor máximo.\n",
    "        y = random.uniform(0,max_ruther)\n",
    "        \n",
    "        # Cálculo da seção de choque\n",
    "        sigma = ((e/(8*math.pi*epsilon*m*v**2))**2)*(1/math.sin(theta/2))**4\n",
    "        \n",
    "        # Método da rejeição\n",
    "        if (y <= sigma): \n",
    "            h1.Fill(theta)\n",
    "            break\n",
    "\n",
    "# Desenhando o histograma\n",
    "h1.Draw()    \n",
    "c1.Draw()"
   ]
  },
  {
   "cell_type": "code",
   "execution_count": null,
   "metadata": {},
   "outputs": [],
   "source": []
  }
 ],
 "metadata": {
  "kernelspec": {
   "display_name": "Python 3",
   "language": "python",
   "name": "python3"
  },
  "language_info": {
   "codemirror_mode": {
    "name": "ipython",
    "version": 3
   },
   "file_extension": ".py",
   "mimetype": "text/x-python",
   "name": "python",
   "nbconvert_exporter": "python",
   "pygments_lexer": "ipython3",
   "version": "3.8.5"
  }
 },
 "nbformat": 4,
 "nbformat_minor": 4
}
